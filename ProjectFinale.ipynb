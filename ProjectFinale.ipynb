{
  "cells":[
    {
      "cell_type":"markdown",
      "source":[
        
      ],
      "attachments":{
        
      },
      "metadata":{
        
      }
    },
    {
      "cell_type":"markdown",
      "source":[
        "# Introduction:\n",
        "Problem of smoking is pretty common around the world, but recently it started to begin more and more actual. Nowadays a huge amount of people smoking all around the world, causing health issues for them and destroying the ecology itself. I found this problem very important and I think the it should be discussed more often, and not being treated as insignificant. The death rate from lung cancer have been increasing through last years, so I believe that such problem is caused by increasing of smoking people all around the world. In that project I would like to analyze if there is a relation between these datasets, fit a model to it and see if its accurate enough to state that for example in society with 30% of smokers there will be a same percentage of Lung Cancer rate\n",
        "\n",
        "# Datasets:\n",
        "To make this project, I found 2 datasets and merged them. \n",
        "\n",
        "First one is all about smoking rates by countries in 2021. Including total and male\/female percentage of smokers.\n",
        "\n",
        "https:\/\/worldpopulationreview.com\/country-rankings\/smoking-rates-by-country?fbclid=IwAR3mVCs6WBWEJcxovEI_3jaQFTXwKf8fg6Mk73E8FCVOw-ABXydy4oXlqnY\n",
        "\n",
        "The second one is describing the percentage of lung cancers death rate. Also rated by countries. Although some of countries presented in first dataset are not included in second one, but I will proceed this issue during processing data in code.\n",
        "\n",
        "https:\/\/www.worldlifeexpectancy.com\/cause-of-death\/lung-cancers\/by-country\/\n",
        "\n",
        "\n",
        "To be sure in the relevance of data, both of datasets are for the same year, 2021. I have decided to use only one column in the second dataset, which is responsible for both sex percentage of Lung cancers.\n",
        "\n",
        "Before we proceed into the whole models, you can suggest that it is obvious that “the more countries smoke, the more is their lung cancer rate”, but let me assure that such statement is not valid for every case of our dataset, and below you will see that by your own eyes.\n",
        "\n",
        "The whole combined dataset can be found here (My GitHub repository for this project):\n",
        "\n",
        "https:\/\/github.com\/WhiteOwlhead\/SADISM\/blob\/main\/Smoking.csv\n",
        "\n",
        "So, what will be included in this project:\n",
        "-\tGetting and proceeding dataset from mine Github repository.\n",
        "-\tShowing the initial data, creating needed dataset by choosing only important for our task columns and sorting this data.\n",
        "-\tMaking the plot on 2D coordinate system.\n",
        "-   Creating a linear model for it.\n",
        "-\tApply SVR model.\n",
        "-\tApply GML model.\n",
        "-\tConclusion.\n",
        "\n",
        "Resources I used to do this project:\n",
        "\n",
        "-\thttps:\/\/byes.pl\/wp-content\/uploads\/systemy\/SADiSM_lab_2_III16_15.ipynb\n",
        "-\thttps:\/\/byes.pl\/wp-content\/uploads\/systemy\/SADiSM_lab_3_IV13_15.ipynb\n",
        "-\thttps:\/\/scikit-learn.org\/stable\/modules\/generated\/sklearn.metrics.mean_squared_error.html\n",
        "-\thttps:\/\/scikit-learn.org\/stable\/modules\/generated\/sklearn.linear_model.LinearRegression.html\n",
        "\n"
      ],
      "attachments":{
        
      },
      "metadata":{
        
      }
    },
    {
      "cell_type":"markdown",
      "source":[
        "# Getting and proceeding dataset:"
      ],
      "attachments":{
        
      },
      "metadata":{
        
      }
    },
    {
      "cell_type":"code",
      "source":[
        "import urllib.request\n",
        "import os\n",
        "import pandas as pd\n",
        "\n",
        "urllib.request.urlretrieve(\"https:\/\/raw.githubusercontent.com\/WhiteOwlhead\/SADISM\/main\/Smoking.csv\", 'Smoking.csv')\n",
        "dataframe = pd.read_csv('Smoking.csv').dropna()\n",
        "dataframe.sample(20)"
      ],
      "execution_count":1,
      "outputs":[
        {
          "data":{
            "text\/html":[
              "<div>\n",
              "<style scoped>\n",
              "    .dataframe tbody tr th:only-of-type {\n",
              "        vertical-align: middle;\n",
              "    }\n",
              "\n",
              "    .dataframe tbody tr th {\n",
              "        vertical-align: top;\n",
              "    }\n",
              "\n",
              "    .dataframe thead th {\n",
              "        text-align: right;\n",
              "    }\n",
              "<\/style>\n",
              "<table border=\"1\" class=\"dataframe\">\n",
              "  <thead>\n",
              "    <tr style=\"text-align: right;\">\n",
              "      <th><\/th>\n",
              "      <th>country<\/th>\n",
              "      <th>totalSmokingRate<\/th>\n",
              "      <th>maleSmokingRate<\/th>\n",
              "      <th>femaleSmokingRate<\/th>\n",
              "      <th>totalLungCancerRate<\/th>\n",
              "    <\/tr>\n",
              "  <\/thead>\n",
              "  <tbody>\n",
              "    <tr>\n",
              "      <th>101<\/th>\n",
              "      <td>Canada<\/td>\n",
              "      <td>14.95<\/td>\n",
              "      <td>17.7<\/td>\n",
              "      <td>12.2<\/td>\n",
              "      <td>29.64<\/td>\n",
              "    <\/tr>\n",
              "    <tr>\n",
              "      <th>34<\/th>\n",
              "      <td>Poland<\/td>\n",
              "      <td>28.05<\/td>\n",
              "      <td>32.4<\/td>\n",
              "      <td>23.7<\/td>\n",
              "      <td>36.90<\/td>\n",
              "    <\/tr>\n",
              "    <tr>\n",
              "      <th>91<\/th>\n",
              "      <td>Singapore<\/td>\n",
              "      <td>16.50<\/td>\n",
              "      <td>28.0<\/td>\n",
              "      <td>5.0<\/td>\n",
              "      <td>22.32<\/td>\n",
              "    <\/tr>\n",
              "    <tr>\n",
              "      <th>72<\/th>\n",
              "      <td>Ireland<\/td>\n",
              "      <td>22.15<\/td>\n",
              "      <td>22.4<\/td>\n",
              "      <td>21.9<\/td>\n",
              "      <td>25.88<\/td>\n",
              "    <\/tr>\n",
              "    <tr>\n",
              "      <th>11<\/th>\n",
              "      <td>Croatia<\/td>\n",
              "      <td>36.45<\/td>\n",
              "      <td>39.4<\/td>\n",
              "      <td>33.5<\/td>\n",
              "      <td>33.85<\/td>\n",
              "    <\/tr>\n",
              "    <tr>\n",
              "      <th>107<\/th>\n",
              "      <td>Costa Rica<\/td>\n",
              "      <td>13.40<\/td>\n",
              "      <td>18.5<\/td>\n",
              "      <td>8.3<\/td>\n",
              "      <td>6.82<\/td>\n",
              "    <\/tr>\n",
              "    <tr>\n",
              "      <th>18<\/th>\n",
              "      <td>Laos<\/td>\n",
              "      <td>32.85<\/td>\n",
              "      <td>56.6<\/td>\n",
              "      <td>9.1<\/td>\n",
              "      <td>14.26<\/td>\n",
              "    <\/tr>\n",
              "    <tr>\n",
              "      <th>93<\/th>\n",
              "      <td>Iceland<\/td>\n",
              "      <td>16.05<\/td>\n",
              "      <td>17.0<\/td>\n",
              "      <td>15.1<\/td>\n",
              "      <td>25.17<\/td>\n",
              "    <\/tr>\n",
              "    <tr>\n",
              "      <th>97<\/th>\n",
              "      <td>Zambia<\/td>\n",
              "      <td>15.55<\/td>\n",
              "      <td>26.5<\/td>\n",
              "      <td>4.6<\/td>\n",
              "      <td>2.13<\/td>\n",
              "    <\/tr>\n",
              "    <tr>\n",
              "      <th>51<\/th>\n",
              "      <td>China<\/td>\n",
              "      <td>24.70<\/td>\n",
              "      <td>47.6<\/td>\n",
              "      <td>1.8<\/td>\n",
              "      <td>36.21<\/td>\n",
              "    <\/tr>\n",
              "    <tr>\n",
              "      <th>68<\/th>\n",
              "      <td>Cameroon<\/td>\n",
              "      <td>22.35<\/td>\n",
              "      <td>43.8<\/td>\n",
              "      <td>0.9<\/td>\n",
              "      <td>1.71<\/td>\n",
              "    <\/tr>\n",
              "    <tr>\n",
              "      <th>0<\/th>\n",
              "      <td>Kiribati<\/td>\n",
              "      <td>52.40<\/td>\n",
              "      <td>63.9<\/td>\n",
              "      <td>40.9<\/td>\n",
              "      <td>16.62<\/td>\n",
              "    <\/tr>\n",
              "    <tr>\n",
              "      <th>35<\/th>\n",
              "      <td>Lesotho<\/td>\n",
              "      <td>27.75<\/td>\n",
              "      <td>55.1<\/td>\n",
              "      <td>0.4<\/td>\n",
              "      <td>2.97<\/td>\n",
              "    <\/tr>\n",
              "    <tr>\n",
              "      <th>13<\/th>\n",
              "      <td>Bulgaria<\/td>\n",
              "      <td>35.30<\/td>\n",
              "      <td>42.4<\/td>\n",
              "      <td>28.2<\/td>\n",
              "      <td>27.28<\/td>\n",
              "    <\/tr>\n",
              "    <tr>\n",
              "      <th>69<\/th>\n",
              "      <td>Norway<\/td>\n",
              "      <td>22.25<\/td>\n",
              "      <td>22.4<\/td>\n",
              "      <td>22.1<\/td>\n",
              "      <td>23.64<\/td>\n",
              "    <\/tr>\n",
              "    <tr>\n",
              "      <th>110<\/th>\n",
              "      <td>Cape Verde<\/td>\n",
              "      <td>12.85<\/td>\n",
              "      <td>22.2<\/td>\n",
              "      <td>3.5<\/td>\n",
              "      <td>2.33<\/td>\n",
              "    <\/tr>\n",
              "    <tr>\n",
              "      <th>77<\/th>\n",
              "      <td>Burkina Faso<\/td>\n",
              "      <td>20.25<\/td>\n",
              "      <td>36.0<\/td>\n",
              "      <td>4.5<\/td>\n",
              "      <td>2.36<\/td>\n",
              "    <\/tr>\n",
              "    <tr>\n",
              "      <th>33<\/th>\n",
              "      <td>Bahrain<\/td>\n",
              "      <td>28.20<\/td>\n",
              "      <td>48.8<\/td>\n",
              "      <td>7.6<\/td>\n",
              "      <td>14.22<\/td>\n",
              "    <\/tr>\n",
              "    <tr>\n",
              "      <th>114<\/th>\n",
              "      <td>Colombia<\/td>\n",
              "      <td>11.10<\/td>\n",
              "      <td>16.0<\/td>\n",
              "      <td>6.2<\/td>\n",
              "      <td>14.19<\/td>\n",
              "    <\/tr>\n",
              "    <tr>\n",
              "      <th>112<\/th>\n",
              "      <td>Senegal<\/td>\n",
              "      <td>12.05<\/td>\n",
              "      <td>23.4<\/td>\n",
              "      <td>0.7<\/td>\n",
              "      <td>1.86<\/td>\n",
              "    <\/tr>\n",
              "  <\/tbody>\n",
              "<\/table>\n",
              "<\/div>"
            ]
          },
          "metadata":{
            
          },
          "output_type":"display_data"
        }
      ],
      "metadata":{
        
      }
    },
    {
      "cell_type":"markdown",
      "source":[
        
      ],
      "attachments":{
        
      },
      "metadata":{
        
      }
    },
    {
      "cell_type":"markdown",
      "source":[
        "As I mentioned before, I will use only total smoking rate and total lung cancer rate, so I extract only two columns from this dataset and created a new dataframe. Then I decided to sort it both by total smoking rate, and then by total lung cancer rate. During the creation of this dataframe, I also dropped rows with Na in total lung cancer rate.\n",
        "\n",
        "Our main table, that we will work with, will be sorted by total smoking rate, which will be used as x axis."
      ],
      "attachments":{
        
      },
      "metadata":{
        
      }
    },
    {
      "cell_type":"markdown",
      "source":[
        
      ],
      "attachments":{
        
      },
      "metadata":{
        
      }
    },
    {
      "cell_type":"code",
      "source":[
        "sub_dataframe = pd.DataFrame(dataframe[[\"country\",\"totalSmokingRate\",\"totalLungCancerRate\"]]).dropna()\n",
        "\n",
        "\n",
        "totalSmokingSort = sub_dataframe.sort_values(by=[\"totalSmokingRate\"], ascending=False)\n",
        "print(\"Sorted by total Smoking: \\n\")\n",
        "print(totalSmokingSort)\n",
        "\n",
        "totalLungSort = sub_dataframe.sort_values(by=[\"totalLungCancerRate\"], ascending=False)\n",
        "print(\"Sorted by total Lung cancer rate: \\n\")\n",
        "print(totalLungSort)"
      ],
      "execution_count":2,
      "outputs":[
        {
          "name":"stdout",
          "text":[
            "Sorted by total Smoking: \n",
            "\n",
            "      country  totalSmokingRate  totalLungCancerRate\n",
            "0    Kiribati             52.40                16.62\n",
            "2      Greece             42.65                31.80\n",
            "3      Serbia             41.65                37.09\n",
            "4      Russia             40.90                26.70\n",
            "5      Jordan             40.45                12.23\n",
            "..        ...               ...                  ...\n",
            "122   Ecuador              8.65                 6.73\n",
            "123  Barbados              7.00                 8.91\n",
            "124     Ghana              6.75                 2.43\n",
            "125    Panama              6.60                 8.87\n",
            "126  Ethiopia              4.70                 3.34\n",
            "\n",
            "[123 rows x 3 columns]\n",
            "Sorted by total Lung cancer rate: \n",
            "\n",
            "      country  totalSmokingRate  totalLungCancerRate\n",
            "32    Hungary             28.40                48.21\n",
            "3      Serbia             41.65                37.09\n",
            "34     Poland             28.05                36.90\n",
            "51      China             24.70                36.21\n",
            "11    Croatia             36.45                33.85\n",
            "..        ...               ...                  ...\n",
            "121   Nigeria              9.25                 1.16\n",
            "95     Malawi             15.70                 1.15\n",
            "120     Benin              9.35                 0.97\n",
            "96   Tanzania             15.65                 0.91\n",
            "119     Niger              9.40                 0.81\n",
            "\n",
            "[123 rows x 3 columns]\n"
          ],
          "output_type":"stream"
        }
      ],
      "metadata":{
        
      }
    },
    {
      "cell_type":"markdown",
      "source":[
        "As we can see, it looks like my assumption before was correct. Because the countries with high total smoking rate is not also with high total lung cancer rate. Also, we can state that the model will probably have a big error, as some of the cases are inconsistent.\n",
        "\n",
        "Let us proceed to drawing a plot"
      ],
      "attachments":{
        
      },
      "metadata":{
        
      }
    },
    {
      "cell_type":"markdown",
      "source":[
        "# Making the plot on 2D coordinate system:"
      ],
      "attachments":{
        
      },
      "metadata":{
        
      }
    },
    {
      "cell_type":"code",
      "source":[
        "import matplotlib.pyplot as plt\n",
        "import numpy as np\n",
        "\n",
        "totalSmokingSort.plot(kind=\"scatter\",x=\"totalSmokingRate\",y=\"totalLungCancerRate\",color=\"blue\")\n",
        "#plt.xticks(rotation=\"vertical\")\n",
        "plt.show()\n",
        "\n",
        "#The code belove is to see the plot drawn on total Lung cancer rate as x axis\n",
        "totalSmokingSort.plot(kind=\"scatter\",x=\"totalLungCancerRate\",y=\"totalSmokingRate\",color=\"blue\")\n",
        "plt.show()"
      ],
      "execution_count":6,
      "outputs":[
        {
          "data":{
            "image\/png":"[encoded data removed]"
          },
          "metadata":{
            "image\/png":{
              
            }
          },
          "output_type":"display_data"
        }
      ],
      "metadata":{
        
      }
    },
    {
      "cell_type":"markdown",
      "source":[
        "Looking at our graphs, we can say that they are both similar, but we will work only with first one.\n",
        "Also, even if x axis seems to be fine by itself, the lung cancer rate values are 'divided' into two groups, the first one seems to be a consistant, while other is spread all around the y axis."
      ],
      "attachments":{
        
      },
      "metadata":{
        
      }
    },
    {
      "cell_type":"markdown",
      "source":[
        "# Creating a linear model:"
      ],
      "attachments":{
        
      },
      "metadata":{
        
      }
    },
    {
      "cell_type":"code",
      "source":[
        "from sklearn.linear_model import LinearRegression\n",
        "from sklearn.metrics import mean_squared_error\n",
        "\n",
        "x=totalSmokingSort['totalSmokingRate'].values\n",
        "y=totalSmokingSort['totalLungCancerRate'].values\n",
        "model = LinearRegression()\n",
        "model.fit(x.reshape(-1,1), y)\n",
        "y_pred = model.predict(x.reshape(-1,1))\n",
        "\n",
        "x_min = totalSmokingSort['totalSmokingRate'].min()\n",
        "x_max = totalSmokingSort['totalSmokingRate'].max()\n",
        "x_plot = np.linspace(x_min, x_max, 300)\n",
        "y_pred_plot = model.predict(x_plot.reshape(-1,1))\n",
        "\n",
        "plt.scatter(x,y, label='dataset')\n",
        "plt.plot(x_plot, y_pred_plot, color='tab:orange', label='model')\n",
        "plt.xlabel(totalSmokingSort.columns[1], fontsize=16)\n",
        "plt.ylabel(totalSmokingSort.columns[2], fontsize=16)\n",
        "\n",
        "plt.legend()\n",
        "plt.show()\n",
        "\n",
        "print(\"Mean squared error = {}\".format(mean_squared_error(y, model.predict(x.reshape(-1,1)))))\n",
        "print(\"Model parameters = {}, {}\".format(model.coef_,model.intercept_))"
      ],
      "execution_count":4,
      "outputs":[
        {
          "name":"stdout",
          "text":[
            "Mean squared error = 84.67828202250206\n",
            "Model parameters = [0.60353276], 2.5052325547169154\n"
          ],
          "output_type":"stream"
        },
        {
          "data":{
            "image\/png":"[encoded data removed]"
          },
          "metadata":{
            "image\/png":{
              
            }
          },
          "output_type":"display_data"
        }
      ],
      "metadata":{
        
      }
    },
    {
      "cell_type":"markdown",
      "source":[
        "Despite the fact, that our linear regression seems to be fine, our mean squared error shows us, that this graph is not ideal at all. We can see that some values are pretty far away from prediction line, which show us, that we can not depend on this model, or even use it in some disputes. It is worth to mention that linear regression in a simplified version is y=ax+b, and our model parameters are (a) and (b), which are printed above the graph."
      ],
      "attachments":{
        
      },
      "metadata":{
        
      }
    },
    {
      "cell_type":"markdown",
      "source":[
        "# Apply SVR model:"
      ],
      "attachments":{
        
      },
      "metadata":{
        
      }
    },
    {
      "cell_type":"code",
      "source":[
        "from sklearn.svm import SVR\n",
        "\n",
        "model_svr = SVR()\n",
        "model_svr = model_svr.fit(x.reshape(-1,1), y)\n",
        "y_svr_pred_plot = model_svr.predict(x_plot.reshape(-1,1))\n",
        "\n",
        "totalSmokingSort.plot(kind=\"scatter\",x=\"totalSmokingRate\",y=\"totalLungCancerRate\",color=\"blue\")\n",
        "plt.xlabel(totalSmokingSort.columns[1], fontsize=16)\n",
        "plt.ylabel(totalSmokingSort.columns[2], fontsize=16)\n",
        "\n",
        "plt.plot(x_plot, y_pred_plot, color='tab:orange', label='model')\n",
        "plt.plot(x_plot, y_svr_pred_plot, color='tab:purple', label='SVR model')\n",
        "\n",
        "\n",
        "plt.legend()\n",
        "plt.show()\n",
        "\n",
        "\n",
        "print(\"Mean squared error = {}\".format(mean_squared_error(y, model_svr.predict(x.reshape(-1,1)))))"
      ],
      "execution_count":7,
      "outputs":[
        {
          "name":"stdout",
          "text":[
            "Mean squared error = 82.54999455216286\n"
          ],
          "output_type":"stream"
        },
        {
          "data":{
            "image\/png":"[encoded data removed]"
          },
          "metadata":{
            "image\/png":{
              
            }
          },
          "output_type":"display_data"
        }
      ],
      "metadata":{
        
      }
    },
    {
      "cell_type":"markdown",
      "source":[
        "SVR uses the same basic idea as Support Vector Machine (SVM), but applies it to predict real values, not a class. SVR acknowledges the presence of non-linearity in the data and provides a proficient prediction model. \n",
        "While linear regression models minimize the error between the actual and predicted values through the line of best fit, SVR manages to fit the best line within a threshold of values.\n",
        "\n",
        "As we can see here, our SVR model at the middle of our graph seems more precise than our linear regression due to the lower mean squared error, which shows us that the model is closer to most of data on the graph."
      ],
      "attachments":{
        
      },
      "metadata":{
        
      }
    },
    {
      "cell_type":"markdown",
      "source":[
        "# Apply GML model:"
      ],
      "attachments":{
        
      },
      "metadata":{
        
      }
    },
    {
      "cell_type":"code",
      "source":[
        "from sklearn.preprocessing import PolynomialFeatures\n",
        "\n",
        "preX = PolynomialFeatures(degree=4, include_bias=True, interaction_only=False)\n",
        "Xtransformed = preX.fit_transform(x.reshape(-1,1))\n",
        "\n",
        "\n",
        "model_GLM = LinearRegression()\n",
        "model_GLM.fit(Xtransformed, y)\n",
        "\n",
        "Xtransformed = preX.fit_transform(x_plot.reshape(-1,1))\n",
        "y_pred_GLM_plot = model_GLM.predict(Xtransformed)\n",
        "\n",
        "totalSmokingSort.plot(kind=\"scatter\",x=\"totalSmokingRate\",y=\"totalLungCancerRate\",color=\"blue\")\n",
        "plt.xlabel(totalSmokingSort.columns[1], fontsize=16)\n",
        "plt.ylabel(totalSmokingSort.columns[2], fontsize=16)\n",
        "\n",
        "plt.plot(x_plot, y_pred_plot, color='tab:orange', label='model')\n",
        "plt.plot(x_plot, y_svr_pred_plot, color='tab:purple', label='SVR model')\n",
        "plt.plot(x_plot, y_pred_GLM_plot, color='tab:red', label='GLM model')\n",
        "\n",
        "\n",
        "plt.legend()\n",
        "plt.show()\n",
        "\n",
        "print('Model GLM params: {}, {}'.format(model_GLM.coef_, model_GLM.intercept_))"
      ],
      "execution_count":9,
      "outputs":[
        {
          "name":"stdout",
          "text":[
            "Model GLM params: [ 0.00000000e+00 -3.43643085e-01  9.02769141e-02 -2.46012991e-03\n",
            "  1.85318265e-05], 2.7782902472159403\n"
          ],
          "output_type":"stream"
        },
        {
          "data":{
            "image\/png":"[encoded data removed]"
          },
          "metadata":{
            "image\/png":{
              
            }
          },
          "output_type":"display_data"
        }
      ],
      "metadata":{
        
      }
    },
    {
      "cell_type":"markdown",
      "source":[
        "Generalized linear model is elastic generalization of our simple linear regression that allows for response variables that have error distribution models other than a normal ones. GLM simplifies linear regression by allowing the linear model to be related to the response variable by a link function and by allowing the great size of the variance of each measurement to be a function of its predicted value.\n",
        "\n",
        "Comparing our GLM model to our previous models, I believe that the GLM is the most precise one of others, because it's line is closer to our data and looks more adequate from others.\n",
        "\n",
        "Also we need to remember, that degree of GLM allows us to modify a model in that way, that it will look more fittable or exactly opposite (in case of worng degree). \n",
        "\n",
        "# Here is an example of wrong degree interpretation:"
      ],
      "attachments":{
        
      },
      "metadata":{
        
      }
    },
    {
      "cell_type":"code",
      "source":[
        "from sklearn.preprocessing import PolynomialFeatures\n",
        "\n",
        "preX = PolynomialFeatures(degree=7, include_bias=True, interaction_only=False)\n",
        "Xtransformed = preX.fit_transform(x.reshape(-1,1))\n",
        "\n",
        "\n",
        "model_GLM = LinearRegression()\n",
        "model_GLM.fit(Xtransformed, y)\n",
        "\n",
        "Xtransformed = preX.fit_transform(x_plot.reshape(-1,1))\n",
        "y_pred_GLM_plot = model_GLM.predict(Xtransformed)\n",
        "\n",
        "totalSmokingSort.plot(kind=\"scatter\",x=\"totalSmokingRate\",y=\"totalLungCancerRate\",color=\"blue\")\n",
        "plt.xlabel(totalSmokingSort.columns[1], fontsize=16)\n",
        "plt.ylabel(totalSmokingSort.columns[2], fontsize=16)\n",
        "\n",
        "plt.plot(x_plot, y_pred_plot, color='tab:orange', label='model')\n",
        "plt.plot(x_plot, y_svr_pred_plot, color='tab:purple', label='SVR model')\n",
        "plt.plot(x_plot, y_pred_GLM_plot, color='tab:red', label='GLM model')\n",
        "\n",
        "\n",
        "plt.legend()\n",
        "plt.show()\n",
        "\n",
        "print('Model GLM params: {}, {}'.format(model_GLM.coef_, model_GLM.intercept_))"
      ],
      "execution_count":10,
      "outputs":[
        {
          "name":"stdout",
          "text":[
            "Model GLM params: [ 0.00000000e+00 -4.56226714e+01  7.52386698e+00 -6.21484656e-01\n",
            "  2.86031910e-02 -7.38588879e-04  9.95657872e-06 -5.43128564e-08], 108.8463387015313\n"
          ],
          "output_type":"stream"
        },
        {
          "data":{
            "image\/png":"[encoded data removed]"
          },
          "metadata":{
            "image\/png":{
              
            }
          },
          "output_type":"display_data"
        }
      ],
      "metadata":{
        
      }
    },
    {
      "cell_type":"markdown",
      "source":[
        "# Conclusion:\n",
        "\n",
        "As we can see, from all models, the most suitable was GLM model. Despite the fact, that it depends on right degree choice, it appeared to be more accurate than others. If we divide our graph in two parts, the first one (x axis from 0-30) we can see, that our linear regression is fine, while on second part (x axis from 30-60), the data is located in such a way, that SVR and GLM models are going down, while our linear regression still going up, making it unrelevant in that part. I assume that SVR model is better than our linear regression, but it still has huge error mean value, even if it is lower than in linear regression. We need to remember, that still these are models with big error values, and we can not treat them as a good prediction of relation of total smoking rate and total lung cancer rate.\n",
        "\n",
        "As I writed at the start of my project, the data itself is not such simple as assumption about “the more countries smoke, the more is their lung cancer rate”. The plot itself showed us that this data is partly unconsistent, making finding the suitable graph a hard work. All in all I can say, that still there is a weak corelation between those two data, but it is not enough to state that the more pople smoke, the more people are getting lung cancer, making us to think that there is much more aspects need to be taken into consideration."
      ],
      "attachments":{
        
      },
      "metadata":{
        
      }
    },
    {
      "cell_type":"code",
      "source":[
        
      ],
      "execution_count":10,
      "outputs":[
        
      ],
      "metadata":{
        
      }
    }
  ],
  "metadata":{
    
  },
  "nbformat":4,
  "nbformat_minor":0
}